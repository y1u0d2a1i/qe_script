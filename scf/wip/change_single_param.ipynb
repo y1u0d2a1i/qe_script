{
 "cells": [
  {
   "cell_type": "code",
   "execution_count": 2,
   "metadata": {},
   "outputs": [],
   "source": [
    "import numpy as np\n",
    "import pandas as pd\n",
    "import matplotlib.pyplot as plt\n",
    "\n",
    "template_path = '/Users/y1u0d2/Desktop/Project/qe_script/template'\n",
    "target_dir = '/Users/y1u0d2/Desktop/Project/qe_script/wip'\n",
    "output_dir = '/Users/y1u0d2/Desktop/Project/qe_script/template'"
   ]
  },
  {
   "cell_type": "markdown",
   "metadata": {},
   "source": []
  },
  {
   "cell_type": "code",
   "execution_count": 18,
   "metadata": {},
   "outputs": [],
   "source": [
    "def get_change_param_line(val, line):\n",
    "    line = line.split(' ')\n",
    "    line[-1] = str(val)\n",
    "    line = ' '.join(line)\n",
    "    return line\n",
    "\n",
    "def get_param_idx(param, lines):\n",
    "    param_idx = None\n",
    "    for i, l in enumerate(lines):\n",
    "        if param in l:\n",
    "            param_idx = i\n",
    "    if param_idx is None:\n",
    "        raise ValueError('invalid param')\n",
    "    else:\n",
    "        return param_idx\n",
    "\n",
    "target_param = 'ecutwfc'\n",
    "with open(f'{template_path}/scf.in') as f:\n",
    "    l_strip = [s.strip() for s in f.readlines()]\n",
    "    param_idx = None\n",
    "    for i, l in enumerate(l_strip):\n",
    "        if target_param in l:\n",
    "            param_idx = i\n",
    "\n",
    "param_range = [10, 20, 30, 40, 50, 60, 70]\n",
    "param = param_range[0]\n",
    "\n",
    "target_line = l_strip[param_idx]\n",
    "target_line = get_change_param_line(param, target_line)\n",
    "\n",
    "output_lines = l_strip.copy()\n",
    "output_lines[param_idx] = target_line\n",
    "output_lines[param_idx]\n",
    "with open(f'{target_dir}/ecut.in', mode='w') as f:\n",
    "    f.write('\\n'.join(output_lines))"
   ]
  },
  {
   "cell_type": "code",
   "execution_count": 14,
   "metadata": {},
   "outputs": [
    {
     "data": {
      "text/plain": "['ecutwfc', '=', '80']"
     },
     "execution_count": 14,
     "metadata": {},
     "output_type": "execute_result"
    }
   ],
   "source": []
  },
  {
   "cell_type": "code",
   "execution_count": null,
   "metadata": {},
   "outputs": [],
   "source": []
  }
 ],
 "metadata": {
  "interpreter": {
   "hash": "523738ac47dcf7681d48eb184ac702eac622ded297e68c9c931bbc5de5caff01"
  },
  "kernelspec": {
   "display_name": "Python 3.10.4 ('ml')",
   "language": "python",
   "name": "python3"
  },
  "language_info": {
   "codemirror_mode": {
    "name": "ipython",
    "version": 3
   },
   "file_extension": ".py",
   "mimetype": "text/x-python",
   "name": "python",
   "nbconvert_exporter": "python",
   "pygments_lexer": "ipython3",
   "version": "3.10.4"
  },
  "orig_nbformat": 4
 },
 "nbformat": 4,
 "nbformat_minor": 2
}