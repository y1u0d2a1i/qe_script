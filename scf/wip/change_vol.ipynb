{
 "cells": [
  {
   "cell_type": "code",
   "execution_count": 1,
   "metadata": {},
   "outputs": [],
   "source": [
    "import numpy as np\n",
    "import pandas as pd\n",
    "import matplotlib.pyplot as plt\n",
    "\n",
    "template_path = '/Users/y1u0d2/Desktop/Project/qe/template'\n",
    "target_dir = '/Users/y1u0d2/Desktop/Project/qe/wip'\n",
    "output_dir = '/Users/y1u0d2/Desktop/Project/qe/template'"
   ]
  },
  {
   "cell_type": "code",
   "execution_count": 2,
   "metadata": {},
   "outputs": [],
   "source": [
    "lattice_range = np.arange(1.7, 6.3, 0.5)\n",
    "\n",
    "with open(f'{template_path}/scf.in') as f:\n",
    "    l_strip = [s.strip() for s in f.readlines()]\n",
    "    cell_start_index = l_strip.index('CELL_PARAMETERS {angstrom}')\n",
    "    a_axis = l_strip[cell_start_index+1]\n",
    "    b_axis = l_strip[cell_start_index+2]\n",
    "    c_axis = l_strip[cell_start_index+3]"
   ]
  },
  {
   "cell_type": "code",
   "execution_count": null,
   "metadata": {},
   "outputs": [],
   "source": []
  },
  {
   "cell_type": "code",
   "execution_count": 3,
   "metadata": {},
   "outputs": [],
   "source": [
    "def change_lattice_coord(offset, axis, lattice):\n",
    "    axis = axis.split(' ')\n",
    "    axis[offset] = lattice\n",
    "    axis = ' '.join(axis)\n",
    "    return axis\n",
    "\n",
    "lattice = '3.5'\n",
    "a_axis = change_lattice_coord(0, a_axis, lattice)\n",
    "b_axis = change_lattice_coord(1, b_axis, lattice)\n",
    "c_axis = change_lattice_coord(2, c_axis, lattice)\n",
    "\n",
    "output_lines = l_strip.copy()\n",
    "output_lines[cell_start_index+1] = a_axis\n",
    "output_lines[cell_start_index+2] = b_axis\n",
    "output_lines[cell_start_index+3] = c_axis"
   ]
  },
  {
   "cell_type": "code",
   "execution_count": null,
   "metadata": {},
   "outputs": [],
   "source": []
  },
  {
   "cell_type": "code",
   "execution_count": 4,
   "metadata": {},
   "outputs": [],
   "source": [
    "filename = 'sample.in'\n",
    "with open(f'{target_dir}/{filename}', mode='w') as f:\n",
    "    f.write('\\n'.join(output_lines))"
   ]
  },
  {
   "cell_type": "code",
   "execution_count": 5,
   "metadata": {},
   "outputs": [
    {
     "name": "stdout",
     "output_type": "stream",
     "text": [
      "1.70\n",
      "2.20\n",
      "2.70\n",
      "3.20\n",
      "3.70\n",
      "4.20\n",
      "4.70\n",
      "5.20\n",
      "5.70\n",
      "6.20\n"
     ]
    }
   ],
   "source": [
    "for lattice in lattice_range:\n",
    "    lattice = str('{:.2f}'.format(lattice))\n",
    "    print(lattice)"
   ]
  },
  {
   "cell_type": "code",
   "execution_count": 6,
   "metadata": {},
   "outputs": [
    {
     "data": {
      "text/plain": [
       "[<matplotlib.lines.Line2D at 0x7f7f366f6390>]"
      ]
     },
     "execution_count": 6,
     "metadata": {},
     "output_type": "execute_result"
    },
    {
     "data": {
      "image/png": "[encoded data removed]",
      "text/plain": [
       "<Figure size 720x432 with 1 Axes>"
      ]
     },
     "metadata": {
      "needs_background": "light"
     },
     "output_type": "display_data"
    }
   ],
   "source": [
    "with open(f'{output_dir}/scf.out') as f:\n",
    "    l_strip = [s.strip() for s in f.readlines()]\n",
    "    \n",
    "l_strip = list(filter(lambda l: 'total energy' in l, l_strip))\n",
    "l_strip = [list(filter(lambda l: l != '', line.split(' '))) for line in l_strip]\n",
    "energy_list = [float(line[-2]) for line in l_strip if 'Ry' in line]\n",
    "\n",
    "energy_list = list(dict.fromkeys(energy_list))\n",
    "x = range(1, len(energy_list)+1)\n",
    "fig = plt.figure(figsize=(10, 6))\n",
    "ax = fig.add_subplot(111)\n",
    "ax.plot(x, energy_list)"
   ]
  },
  {
   "cell_type": "code",
   "execution_count": null,
   "metadata": {},
   "outputs": [],
   "source": []
  },
  {
   "cell_type": "code",
   "execution_count": null,
   "metadata": {},
   "outputs": [],
   "source": []
  },
  {
   "cell_type": "code",
   "execution_count": 7,
   "metadata": {},
   "outputs": [
    {
     "data": {
      "text/plain": [
       "[<matplotlib.lines.Line2D at 0x7f7f369f53d0>]"
      ]
     },
     "execution_count": 7,
     "metadata": {},
     "output_type": "execute_result"
    },
    {
     "data": {
      "image/png": "[encoded data removed]",
      "text/plain": [
       "<Figure size 432x288 with 1 Axes>"
      ]
     },
     "metadata": {
      "needs_background": "light"
     },
     "output_type": "display_data"
    }
   ],
   "source": [
    "x = range(1, len(energy_list)+1)\n",
    "plt.plot(x, energy_list)"
   ]
  },
  {
   "cell_type": "code",
   "execution_count": 8,
   "metadata": {},
   "outputs": [
    {
     "data": {
      "text/plain": [
       "[-373.80371337,\n",
       " -373.81068264,\n",
       " -373.81359709,\n",
       " -373.8139257,\n",
       " -373.81394011,\n",
       " -373.81394079,\n",
       " -373.81394078]"
      ]
     },
     "execution_count": 8,
     "metadata": {},
     "output_type": "execute_result"
    }
   ],
   "source": [
    "energy_list"
   ]
  },
  {
   "cell_type": "code",
   "execution_count": 9,
   "metadata": {},
   "outputs": [],
   "source": [
    "output_dir = '/Users/y1u0d2/desktop/Lab/qe/auto_supercell_fcc'\n",
    "def get_energy_list(filename):\n",
    "    with open(f'{output_dir}/{filename}') as f:\n",
    "        l_strip = [s.strip() for s in f.readlines()]\n",
    "    \n",
    "    l_strip = list(filter(lambda l: 'total energy' in l, l_strip))\n",
    "    l_strip = [list(filter(lambda l: l != '', line.split(' '))) for line in l_strip]\n",
    "    energy_list = [float(line[-2]) for line in l_strip if 'Ry' in line]\n",
    "    energy_list = list(dict.fromkeys(energy_list)) #重複削除(multiprocess時)\n",
    "    return energy_list"
   ]
  },
  {
   "cell_type": "code",
   "execution_count": 10,
   "metadata": {},
   "outputs": [],
   "source": [
    "energy_list = get_energy_list('scf_3.20.out')"
   ]
  },
  {
   "cell_type": "code",
   "execution_count": null,
   "metadata": {},
   "outputs": [],
   "source": []
  },
  {
   "cell_type": "code",
   "execution_count": 11,
   "metadata": {},
   "outputs": [
    {
     "data": {
      "text/plain": [
       "[<matplotlib.lines.Line2D at 0x7f7f36aeaed0>]"
      ]
     },
     "execution_count": 11,
     "metadata": {},
     "output_type": "execute_result"
    },
    {
     "data": {
      "image/png": "[encoded data removed]",
      "text/plain": [
       "<Figure size 720x432 with 1 Axes>"
      ]
     },
     "metadata": {
      "needs_background": "light"
     },
     "output_type": "display_data"
    }
   ],
   "source": [
    "output_dir = '/Users/y1u0d2/desktop/Lab/qe/auto_2'\n",
    "ry_to_ev = 13.60\n",
    "def get_energy_list(filename):\n",
    "    with open(f'{output_dir}/{filename}') as f:\n",
    "        l_strip = [s.strip() for s in f.readlines()]\n",
    "    \n",
    "    l_strip = list(filter(lambda l: 'total energy' in l, l_strip))\n",
    "    l_strip = [list(filter(lambda l: l != '', line.split(' '))) for line in l_strip]\n",
    "    energy_list = [float(line[-2]) for line in l_strip if 'Ry' in line]\n",
    "    energy_list = list(dict.fromkeys(energy_list)) #重複削除(multiprocess時)\n",
    "    return energy_list\n",
    "\n",
    "lattice_range = np.arange(2.5, 6.9, 0.2)\n",
    "vol_list = []\n",
    "total_energy_list = []\n",
    "for lattice in lattice_range:\n",
    "    lattice = str('{:.2f}'.format(lattice))\n",
    "    energy_list = get_energy_list(f'scf_{lattice}.out')\n",
    "    total_energy_list.append(energy_list[-1])\n",
    "    vol_list.append(round(float(lattice)**3, 3))\n",
    "\n",
    "fig = plt.figure(figsize=(10, 6))\n",
    "ax = fig.add_subplot(111)\n",
    "# ax.set_title(f'volume vs energy(Ry)')\n",
    "ax.set_title(f'lattice constant vs energy(eV)', fontsize=16)\n",
    "# ax.set_xlabel('volume(A^3)')\n",
    "ax.set_xlabel('lattice constant(A)', fontsize=16)\n",
    "ax.set_ylabel('Energy (eV)', fontsize=16)\n",
    "ax.tick_params(axis='x', labelsize=16)\n",
    "ax.tick_params(axis='y', labelsize=16)\n",
    "ax.plot(lattice_range, total_energy_list)\n",
    "# ax.plot(vol_list, total_energy_list)"
   ]
  },
  {
   "cell_type": "code",
   "execution_count": 12,
   "metadata": {},
   "outputs": [
    {
     "data": {
      "text/plain": [
       "array([2.5, 2.7, 2.9, 3.1, 3.3, 3.5, 3.7, 3.9, 4.1, 4.3, 4.5, 4.7, 4.9,\n",
       "       5.1, 5.3, 5.5, 5.7, 5.9, 6.1, 6.3, 6.5, 6.7])"
      ]
     },
     "execution_count": 12,
     "metadata": {},
     "output_type": "execute_result"
    }
   ],
   "source": [
    "lattice_range"
   ]
  },
  {
   "cell_type": "code",
   "execution_count": null,
   "metadata": {},
   "outputs": [],
   "source": []
  },
  {
   "cell_type": "code",
   "execution_count": null,
   "metadata": {},
   "outputs": [],
   "source": []
  },
  {
   "cell_type": "code",
   "execution_count": null,
   "metadata": {},
   "outputs": [],
   "source": []
  }
 ],
 "metadata": {
  "interpreter": {
   "hash": "523738ac47dcf7681d48eb184ac702eac622ded297e68c9c931bbc5de5caff01"
  },
  "kernelspec": {
   "display_name": "Python 3.10.4 ('ml')",
   "language": "python",
   "name": "python3"
  },
  "language_info": {
   "codemirror_mode": {
    "name": "ipython",
    "version": 3
   },
   "file_extension": ".py",
   "mimetype": "text/x-python",
   "name": "python",
   "nbconvert_exporter": "python",
   "pygments_lexer": "ipython3",
   "version": "3.7.6"
  },
  "orig_nbformat": 4
 },
 "nbformat": 4,
 "nbformat_minor": 2
}
